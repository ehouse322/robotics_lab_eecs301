{
 "cells": [
  {
   "cell_type": "code",
   "execution_count": 1,
   "metadata": {
    "collapsed": true
   },
   "outputs": [],
   "source": [
    "import matplotlib.pyplot as plt\n",
    "import sys\n",
    "import numpy as np\n",
    "import random as rand \n",
    "import matplotlib as mpl\n",
    "import matplotlib.cm as cm\n",
    "import math"
   ]
  },
  {
   "cell_type": "code",
   "execution_count": 2,
   "metadata": {
    "collapsed": true
   },
   "outputs": [],
   "source": [
    "%matplotlib inline"
   ]
  },
  {
   "cell_type": "code",
   "execution_count": 3,
   "metadata": {
    "collapsed": true
   },
   "outputs": [],
   "source": [
    "import pandas as pd #pandas is almost always imported as pd. Just because. \n",
    "import numpy as np\n",
    "import matplotlib.pyplot as plt\n",
    "import matplotlib as mpl\n",
    "from pandas.tools.plotting import table\n",
    "import scipy.stats as stat"
   ]
  },
  {
   "cell_type": "code",
   "execution_count": 4,
   "metadata": {
    "collapsed": true
   },
   "outputs": [],
   "source": [
    "trials = range(1, 6, 1)"
   ]
  },
  {
   "cell_type": "code",
   "execution_count": null,
   "metadata": {
    "collapsed": true
   },
   "outputs": [],
   "source": []
  },
  {
   "cell_type": "code",
   "execution_count": null,
   "metadata": {
    "collapsed": true
   },
   "outputs": [],
   "source": [
    "DATA FOR ASSESMENT !:"
   ]
  },
  {
   "cell_type": "code",
   "execution_count": 5,
   "metadata": {
    "collapsed": true
   },
   "outputs": [],
   "source": [
    "first_distance = [10.6, 15.2, 1.3, 10.7, 8.0]\n",
    "second_distance = [15.6, 7.9, 17.0, 15.6, 10.1]\n",
    "third_distance_y = [0.1, 2.4, 20.1, 3.1, 14.7]\n",
    "third_distance_x = [13.3, 13.6, 12.7, 11.6, 11.3]"
   ]
  },
  {
   "cell_type": "code",
   "execution_count": 6,
   "metadata": {
    "collapsed": true
   },
   "outputs": [],
   "source": [
    "first_heading = [14, 8, 9, 10, 9]\n",
    "second_heading = [21, 14, 16, 18, 7]\n",
    "third_heading = [9, 5, 13, 4, 11]"
   ]
  },
  {
   "cell_type": "code",
   "execution_count": 7,
   "metadata": {
    "collapsed": false
   },
   "outputs": [
    {
     "name": "stdout",
     "output_type": "stream",
     "text": [
      "\n",
      "Mean: 9.16\n",
      "Standard Deviation:  4.56184173334\n"
     ]
    }
   ],
   "source": [
    "results = stat.describe(first_distance)\n",
    "#print(results)\n",
    "\n",
    "print()\n",
    "print('Mean: ' + str(results.mean))\n",
    "print('Standard Deviation:  ' + str(np.std(first_distance)))"
   ]
  },
  {
   "cell_type": "code",
   "execution_count": 8,
   "metadata": {
    "collapsed": false
   },
   "outputs": [
    {
     "name": "stdout",
     "output_type": "stream",
     "text": [
      "\n",
      "Mean: 13.24\n",
      "Standard Deviation:  3.56796860973\n"
     ]
    }
   ],
   "source": [
    "results = stat.describe(second_distance)\n",
    "#print(results)\n",
    "\n",
    "print()\n",
    "print('Mean: ' + str(results.mean))\n",
    "print('Standard Deviation:  ' + str(np.std(second_distance)))"
   ]
  },
  {
   "cell_type": "code",
   "execution_count": 9,
   "metadata": {
    "collapsed": false
   },
   "outputs": [
    {
     "name": "stdout",
     "output_type": "stream",
     "text": [
      "\n",
      "Mean: 12.5\n",
      "Standard Deviation:  0.909945053286\n"
     ]
    }
   ],
   "source": [
    "results = stat.describe(third_distance_x)\n",
    "#print(results)\n",
    "\n",
    "print()\n",
    "print('Mean: ' + str(results.mean))\n",
    "print('Standard Deviation:  ' + str(np.std(third_distance_x)))"
   ]
  },
  {
   "cell_type": "code",
   "execution_count": 10,
   "metadata": {
    "collapsed": false
   },
   "outputs": [
    {
     "name": "stdout",
     "output_type": "stream",
     "text": [
      "\n",
      "Mean: 8.08\n",
      "Standard Deviation:  7.86190816532\n"
     ]
    }
   ],
   "source": [
    "results = stat.describe(third_distance_y)\n",
    "#print(results)\n",
    "\n",
    "print()\n",
    "print('Mean: ' + str(results.mean))\n",
    "print('Standard Deviation:  ' + str(np.std(third_distance_y)))"
   ]
  },
  {
   "cell_type": "code",
   "execution_count": 11,
   "metadata": {
    "collapsed": false
   },
   "outputs": [
    {
     "name": "stdout",
     "output_type": "stream",
     "text": [
      "\n",
      "Mean: 10.0\n",
      "Standard Deviation:  2.09761769634\n"
     ]
    }
   ],
   "source": [
    "results = stat.describe(first_heading)\n",
    "#print(results)\n",
    "\n",
    "print()\n",
    "print('Mean: ' + str(results.mean))\n",
    "print('Standard Deviation:  ' + str(np.std(first_heading)))"
   ]
  },
  {
   "cell_type": "code",
   "execution_count": 12,
   "metadata": {
    "collapsed": false
   },
   "outputs": [
    {
     "name": "stdout",
     "output_type": "stream",
     "text": [
      "\n",
      "Mean: 15.2\n",
      "Standard Deviation:  4.70744091838\n"
     ]
    }
   ],
   "source": [
    "results = stat.describe(second_heading)\n",
    "#print(results)\n",
    "\n",
    "print()\n",
    "print('Mean: ' + str(results.mean))\n",
    "print('Standard Deviation:  ' + str(np.std(second_heading)))"
   ]
  },
  {
   "cell_type": "code",
   "execution_count": 13,
   "metadata": {
    "collapsed": false
   },
   "outputs": [
    {
     "name": "stdout",
     "output_type": "stream",
     "text": [
      "\n",
      "Mean: 8.4\n",
      "Standard Deviation:  3.44093010682\n"
     ]
    }
   ],
   "source": [
    "results = stat.describe(third_heading)\n",
    "#print(results)\n",
    "\n",
    "print()\n",
    "print('Mean: ' + str(results.mean))\n",
    "print('Standard Deviation:  ' + str(np.std(third_heading)))"
   ]
  },
  {
   "cell_type": "code",
   "execution_count": 14,
   "metadata": {
    "collapsed": true
   },
   "outputs": [],
   "source": [
    "distance_means = [9.16, 13.24, 12.50, 8.08]\n",
    "distance_stddev = [4.562, 3.568, 0.910, 7.862]\n",
    "heading_mean = [10.0, 15.2, 8.4]\n",
    "heading_stddev = [2.098, 4.707, 3.441]"
   ]
  },
  {
   "cell_type": "markdown",
   "metadata": {},
   "source": [
    "###### "
   ]
  },
  {
   "cell_type": "code",
   "execution_count": null,
   "metadata": {
    "collapsed": true
   },
   "outputs": [],
   "source": []
  },
  {
   "cell_type": "code",
   "execution_count": null,
   "metadata": {
    "collapsed": true
   },
   "outputs": [],
   "source": []
  },
  {
   "cell_type": "code",
   "execution_count": null,
   "metadata": {
    "collapsed": true
   },
   "outputs": [],
   "source": []
  },
  {
   "cell_type": "code",
   "execution_count": null,
   "metadata": {
    "collapsed": true
   },
   "outputs": [],
   "source": []
  },
  {
   "cell_type": "code",
   "execution_count": null,
   "metadata": {
    "collapsed": true
   },
   "outputs": [],
   "source": []
  },
  {
   "cell_type": "code",
   "execution_count": null,
   "metadata": {
    "collapsed": true
   },
   "outputs": [],
   "source": []
  },
  {
   "cell_type": "code",
   "execution_count": null,
   "metadata": {
    "collapsed": true
   },
   "outputs": [],
   "source": []
  }
 ],
 "metadata": {
  "kernelspec": {
   "display_name": "Python [Root]",
   "language": "python",
   "name": "Python [Root]"
  },
  "language_info": {
   "codemirror_mode": {
    "name": "ipython",
    "version": 3
   },
   "file_extension": ".py",
   "mimetype": "text/x-python",
   "name": "python",
   "nbconvert_exporter": "python",
   "pygments_lexer": "ipython3",
   "version": "3.5.2"
  }
 },
 "nbformat": 4,
 "nbformat_minor": 0
}
