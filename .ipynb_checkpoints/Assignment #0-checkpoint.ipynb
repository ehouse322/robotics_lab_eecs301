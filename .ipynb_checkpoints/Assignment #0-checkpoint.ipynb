{
 "cells": [
  {
   "cell_type": "code",
   "execution_count": 1,
   "metadata": {
    "collapsed": true
   },
   "outputs": [],
   "source": [
    "%matplotlib inline"
   ]
  },
  {
   "cell_type": "code",
   "execution_count": 80,
   "metadata": {
    "collapsed": true
   },
   "outputs": [],
   "source": [
    "import matplotlib.pyplot as plt\n",
    "import sys\n",
    "import numpy as np\n",
    "import random as rand \n",
    "import matplotlib as mpl\n",
    "import matplotlib.cm as cm\n",
    "import math"
   ]
  },
  {
   "cell_type": "code",
   "execution_count": 95,
   "metadata": {
    "collapsed": true
   },
   "outputs": [],
   "source": [
    "import pandas as pd #pandas is almost always imported as pd. Just because. \n",
    "import numpy as np\n",
    "import matplotlib.pyplot as plt\n",
    "import matplotlib as mpl\n",
    "from pandas.tools.plotting import table\n",
    "import scipy.stats as stat"
   ]
  },
  {
   "cell_type": "code",
   "execution_count": 14,
   "metadata": {
    "collapsed": true
   },
   "outputs": [],
   "source": [
    "trials = range(1, 6, 1)"
   ]
  },
  {
   "cell_type": "code",
   "execution_count": 87,
   "metadata": {
    "collapsed": true
   },
   "outputs": [],
   "source": [
    "#Robot walk data\n",
    "robot_walk_distance = [6.40, 6.25, 6.00, 5.75, 6.70]"
   ]
  },
  {
   "cell_type": "code",
   "execution_count": 102,
   "metadata": {
    "collapsed": false
   },
   "outputs": [
    {
     "data": {
      "text/plain": [
       "[16.256, 15.875, 15.24, 14.605, 17.018]"
      ]
     },
     "execution_count": 102,
     "metadata": {},
     "output_type": "execute_result"
    }
   ],
   "source": [
    "new_distance = []\n",
    "\n",
    "for i in robot_walk_distance:\n",
    "    new = i * 2.54\n",
    "    new_distance.append(new)\n",
    "    \n",
    "new_distance"
   ]
  },
  {
   "cell_type": "markdown",
   "metadata": {},
   "source": [
    "##### Battle pose data\n",
    "battle_pose_time = [10.15, 9.91, 9.95, 10.15, 10.05]"
   ]
  },
  {
   "cell_type": "code",
   "execution_count": 17,
   "metadata": {
    "collapsed": true
   },
   "outputs": [],
   "source": [
    "#Sensor distance data\n",
    "sensor_distance = [15.50, 15.00, 15.20, 15.90, 15.30]"
   ]
  },
  {
   "cell_type": "code",
   "execution_count": 42,
   "metadata": {
    "collapsed": false
   },
   "outputs": [
    {
     "data": {
      "image/png": "[encoded data removed]",
      "text/plain": [
       "<matplotlib.figure.Figure at 0x1131cf2e8>"
      ]
     },
     "metadata": {},
     "output_type": "display_data"
    }
   ],
   "source": [
    "#Building our plots\n",
    "with plt.style.context('fivethirtyeight'):\n",
    "    #initialize figure\n",
    "    fig = plt.figure(figsize= (6,8))\n",
    "\n",
    "    #first axis\n",
    "    ax1 = fig.add_subplot(2, 1, 1)\n",
    "    ax1.scatter(trials, robot_walk_distance, color=\"steelblue\", s=70)\n",
    "    ax1.set_xlabel(\"Trials\", fontsize=15)\n",
    "    ax1.set_ylabel(\"Distance Walked ($cm$)\", fontsize=15)\n",
    "\n",
    "    #Turn off the spines\n",
    "#     for axis in ['bottom','left']:\n",
    "#         ax1.spines[axis].set_linewidth(2)\n",
    "#         ax1.spines[axis].set_position((\"axes\", -0.15))\n",
    "#     for axis in ['top','right']:\n",
    "#         ax1.spines[axis].set_visible(False)\n",
    "\n",
    "    #second axis\n",
    "    # ax2 = fig.add_subplot(2, 1, 2)\n",
    "    # ax2.plot(trials, battle_pose_time)\n",
    "\n",
    "    #We'll also need to turn off the ticks on the axes that we turned off\n",
    "#     ax1.yaxis.set_ticks_position('left')\n",
    "#     ax1.xaxis.set_ticks_position('bottom')\n"
   ]
  },
  {
   "cell_type": "code",
   "execution_count": 117,
   "metadata": {
    "collapsed": false
   },
   "outputs": [
    {
     "data": {
      "image/png": "[encoded data removed]",
      "text/plain": [
       "<matplotlib.figure.Figure at 0x11cedb400>"
      ]
     },
     "metadata": {},
     "output_type": "display_data"
    }
   ],
   "source": [
    "#DISTANCE WALKED\n",
    "\n",
    "#Building our plots\n",
    "with plt.style.context('fivethirtyeight'):\n",
    "    #initialize figure\n",
    "    fig = plt.figure(figsize= (6,8))\n",
    "\n",
    "    #first axis\n",
    "    ax1 = fig.add_subplot(2, 1, 1)\n",
    "    ax1.bar(trials, robot_walk_distance, color=\"steelblue\", width=0.75)\n",
    "    ax1.set_xlabel(\"Trials\", fontsize=15)\n",
    "    ax1.set_ylabel(\"Distance Walked ($cm$)\", fontsize=15)\n",
    "    \n",
    "    #adjust y-axis\n",
    "    low = 5\n",
    "    high = 7.5\n",
    "    plt.ylim(low, high)\n",
    "    plt.xlim(1,5.9)\n",
    "    \n",
    "    #more adjusting\n",
    "    for axis in ['bottom','left']:\n",
    "        ax1.spines[axis].set_linewidth(0.5)\n",
    "        ax1.spines[axis].set_position((\"axes\", -0.05))\n",
    "    \n",
    "    #add a title\n",
    "    plt.title('Robot Walk Distance', fontsize=16)\n",
    "    \n",
    "    #saving the graph\n",
    "    plt.savefig('robot_walk_distance.png')"
   ]
  },
  {
   "cell_type": "code",
   "execution_count": 129,
   "metadata": {
    "collapsed": false
   },
   "outputs": [
    {
     "data": {
      "image/png": "[encoded data removed]",
      "text/plain": [
       "<matplotlib.figure.Figure at 0x11c85c898>"
      ]
     },
     "metadata": {},
     "output_type": "display_data"
    }
   ],
   "source": [
    "#SENSOR DISTANCE\n",
    "\n",
    "with plt.style.context('fivethirtyeight'):\n",
    "    #initialize figure\n",
    "    fig = plt.figure(figsize= (6,6))\n",
    "\n",
    "    #first axis\n",
    "    ax1 = fig.add_subplot(2, 1, 1)\n",
    "    ax1.bar(trials, sensor_distance, color=\"steelblue\", width=0.75)\n",
    "    ax1.set_xlabel(\"Trials\", fontsize=15)\n",
    "    ax1.set_ylabel(\"Distance from sensor ($cm$)\", fontsize=15)\n",
    "    \n",
    "    #adjust y-axis\n",
    "    low = 14.5\n",
    "    high = 16.2\n",
    "#     plt.ylim([math.ceil(low-0.5*(high-low)), math.ceil(high+0.5*(high-low))])\n",
    "    plt.ylim(low, high)\n",
    "    plt.xlim(1,5.9)\n",
    "    \n",
    "    #more adjusting\n",
    "    for axis in ['bottom','left']:\n",
    "        ax1.spines[axis].set_linewidth(0.5)\n",
    "        ax1.spines[axis].set_position((\"axes\", -0.05))\n",
    "    \n",
    "    #add a title\n",
    "    plt.title('Sensor Distance', fontsize=16)\n",
    "    \n",
    "    #saving the graph\n",
    "    plt.savefig('sensor_distance.png')"
   ]
  },
  {
   "cell_type": "code",
   "execution_count": 126,
   "metadata": {
    "collapsed": false
   },
   "outputs": [
    {
     "data": {
      "image/png": "[encoded data removed]",
      "text/plain": [
       "<matplotlib.figure.Figure at 0x11c8a2748>"
      ]
     },
     "metadata": {},
     "output_type": "display_data"
    }
   ],
   "source": [
    "#BATTLE POSE TIME\n",
    "\n",
    "with plt.style.context('fivethirtyeight'):\n",
    "    #initialize figure\n",
    "    fig = plt.figure(figsize= (5,7))\n",
    "\n",
    "    #first axis\n",
    "    ax1 = fig.add_subplot(2, 1, 1)\n",
    "    ax1.bar(trials, battle_pose_time, color=\"steelblue\", width=0.75)\n",
    "    ax1.set_xlabel(\"Trials\", fontsize=15)\n",
    "    ax1.set_ylabel(\"Time ($seconds$)\", fontsize=15)\n",
    "    \n",
    "    #adjust y-axis\n",
    "    low = 9.4\n",
    "    high = 10.5 \n",
    "#     plt.ylim([math.ceil(low-0.5*(high-low)), math.ceil(high+0.5*(high-low))])\n",
    "    plt.ylim(low, high)\n",
    "    plt.xlim(1,5.9)\n",
    "    \n",
    "    #more adjusting\n",
    "    for axis in ['bottom','left']:\n",
    "        ax1.spines[axis].set_linewidth(0.5)\n",
    "        ax1.spines[axis].set_position((\"axes\", -0.05))\n",
    "        \n",
    "    #add a title\n",
    "    plt.title('Battle Pose Time', fontsize=16)\n",
    "    \n",
    "    #saving the graph\n",
    "    plt.savefig('battle_pose_time.png')"
   ]
  },
  {
   "cell_type": "code",
   "execution_count": 83,
   "metadata": {
    "collapsed": false
   },
   "outputs": [
    {
     "data": {
      "text/plain": [
       "1    6.40\n",
       "2    6.25\n",
       "3    6.00\n",
       "4    5.75\n",
       "5    6.70\n",
       "dtype: float64"
      ]
     },
     "execution_count": 83,
     "metadata": {},
     "output_type": "execute_result"
    }
   ],
   "source": [
    "df1 = pd.Series(robot_walk_distance, index=trials)\n",
    "df1"
   ]
  },
  {
   "cell_type": "code",
   "execution_count": 104,
   "metadata": {
    "collapsed": false
   },
   "outputs": [
    {
     "name": "stdout",
     "output_type": "stream",
     "text": [
      "\n",
      "Mean: 10.042\n",
      "Standard Deviation:  0.0992773891679\n"
     ]
    }
   ],
   "source": [
    "results = stat.describe(battle_pose_time)\n",
    "#print(results)\n",
    "\n",
    "print()\n",
    "print('Mean: ' + str(results.mean))\n",
    "print('Standard Deviation:  ' + str(np.std(battle_pose_time)))"
   ]
  },
  {
   "cell_type": "code",
   "execution_count": 103,
   "metadata": {
    "collapsed": false
   },
   "outputs": [
    {
     "name": "stdout",
     "output_type": "stream",
     "text": [
      "\n",
      "Mean: 15.7988\n",
      "Standard Deviation:  0.82930124804\n"
     ]
    }
   ],
   "source": [
    "results = stat.describe(new_distance)\n",
    "#print(results)\n",
    "\n",
    "print()\n",
    "print('Mean: ' + str(results.mean))\n",
    "print('Standard Deviation:  ' + str(np.std(new_distance)))"
   ]
  },
  {
   "cell_type": "code",
   "execution_count": 101,
   "metadata": {
    "collapsed": false
   },
   "outputs": [
    {
     "name": "stdout",
     "output_type": "stream",
     "text": [
      "\n",
      "Mean: 15.38\n",
      "Standard Deviation:  0.305941170816\n"
     ]
    }
   ],
   "source": [
    "results = stat.describe(sensor_distance)\n",
    "#print(results)\n",
    "\n",
    "print()\n",
    "print('Mean: ' + str(results.mean))\n",
    "print('Standard Deviation:  ' + str(np.std(sensor_distance)))"
   ]
  },
  {
   "cell_type": "code",
   "execution_count": null,
   "metadata": {
    "collapsed": true
   },
   "outputs": [],
   "source": []
  },
  {
   "cell_type": "code",
   "execution_count": null,
   "metadata": {
    "collapsed": true
   },
   "outputs": [],
   "source": []
  },
  {
   "cell_type": "code",
   "execution_count": null,
   "metadata": {
    "collapsed": true
   },
   "outputs": [],
   "source": []
  },
  {
   "cell_type": "code",
   "execution_count": null,
   "metadata": {
    "collapsed": true
   },
   "outputs": [],
   "source": []
  },
  {
   "cell_type": "code",
   "execution_count": null,
   "metadata": {
    "collapsed": true
   },
   "outputs": [],
   "source": []
  },
  {
   "cell_type": "code",
   "execution_count": 125,
   "metadata": {
    "collapsed": false
   },
   "outputs": [
    {
     "ename": "AttributeError",
     "evalue": "module 'matplotlib.pyplot' has no attribute 'spines'",
     "output_type": "error",
     "traceback": [
      "\u001b[0;31m---------------------\u001b[0m",
      "\u001b[0;31mAttributeError\u001b[0mTraceback (most recent call last)",
      "\u001b[0;32m<ipython-input-125-0bcbf3ac7b3c>\u001b[0m in \u001b[0;36m<module>\u001b[0;34m()\u001b[0m\n\u001b[1;32m     20\u001b[0m     \u001b[0;31m#more adjusting\u001b[0m\u001b[0;34m\u001b[0m\u001b[0;34m\u001b[0m\u001b[0m\n\u001b[1;32m     21\u001b[0m     \u001b[0;32mfor\u001b[0m \u001b[0maxis\u001b[0m \u001b[0;32min\u001b[0m \u001b[0;34m[\u001b[0m\u001b[0;34m'bottom'\u001b[0m\u001b[0;34m,\u001b[0m\u001b[0;34m'left'\u001b[0m\u001b[0;34m]\u001b[0m\u001b[0;34m:\u001b[0m\u001b[0;34m\u001b[0m\u001b[0m\n\u001b[0;32m---> 22\u001b[0;31m         \u001b[0mplt\u001b[0m\u001b[0;34m.\u001b[0m\u001b[0mspines\u001b[0m\u001b[0;34m[\u001b[0m\u001b[0maxis\u001b[0m\u001b[0;34m]\u001b[0m\u001b[0;34m.\u001b[0m\u001b[0mset_linewidth\u001b[0m\u001b[0;34m(\u001b[0m\u001b[0;36m0.5\u001b[0m\u001b[0;34m)\u001b[0m\u001b[0;34m\u001b[0m\u001b[0m\n\u001b[0m\u001b[1;32m     23\u001b[0m         \u001b[0mplt\u001b[0m\u001b[0;34m.\u001b[0m\u001b[0mspines\u001b[0m\u001b[0;34m[\u001b[0m\u001b[0maxis\u001b[0m\u001b[0;34m]\u001b[0m\u001b[0;34m.\u001b[0m\u001b[0mset_position\u001b[0m\u001b[0;34m(\u001b[0m\u001b[0;34m(\u001b[0m\u001b[0;34m\"axes\"\u001b[0m\u001b[0;34m,\u001b[0m \u001b[0;34m-\u001b[0m\u001b[0;36m0.05\u001b[0m\u001b[0;34m)\u001b[0m\u001b[0;34m)\u001b[0m\u001b[0;34m\u001b[0m\u001b[0m\n\u001b[1;32m     24\u001b[0m \u001b[0;34m\u001b[0m\u001b[0m\n",
      "\u001b[0;31mAttributeError\u001b[0m: module 'matplotlib.pyplot' has no attribute 'spines'"
     ]
    },
    {
     "data": {
      "image/png": "[encoded data removed]",
      "text/plain": [
       "<matplotlib.figure.Figure at 0x11c801ef0>"
      ]
     },
     "metadata": {},
     "output_type": "display_data"
    }
   ],
   "source": [
    "#BATTLE POSE TIME\n",
    "\n",
    "with plt.style.context('fivethirtyeight'):\n",
    "    #initialize figure\n",
    "    fig = plt.figure(figsize= (4,6))\n",
    "\n",
    "    #first axis\n",
    "    ax1 = fig.add_subplot(2, 1, 1)\n",
    "    plt.bar(trials, battle_pose_time, color=\"steelblue\", width=0.75)\n",
    "    plt.set_xlabel(\"Trials\", fontsize=15)\n",
    "    plt.set_ylabel(\"Time ($seconds$)\", fontsize=15)\n",
    "    \n",
    "    #adjust y-axis\n",
    "    low = 9.4\n",
    "    high = 10.5 \n",
    "#     plt.ylim([math.ceil(low-0.5*(high-low)), math.ceil(high+0.5*(high-low))])\n",
    "    plt.ylim(low, high)\n",
    "    plt.xlim(1,5.9)\n",
    "    \n",
    "    #more adjusting\n",
    "    for axis in ['bottom','left']:\n",
    "        ax1.spines[axis].set_linewidth(0.5)\n",
    "        ax1.spines[axis].set_position((\"axes\", -0.05))\n",
    "        \n",
    "    #add a title\n",
    "    plt.title('Battle Pose Time', fontsize=16)\n",
    "    \n",
    "    #saving the graph\n",
    "    plt.savefig('battle_pose_time.png')"
   ]
  },
  {
   "cell_type": "code",
   "execution_count": null,
   "metadata": {
    "collapsed": true
   },
   "outputs": [],
   "source": []
  }
 ],
 "metadata": {
  "kernelspec": {
   "display_name": "Python [Root]",
   "language": "python",
   "name": "Python [Root]"
  },
  "language_info": {
   "codemirror_mode": {
    "name": "ipython",
    "version": 3
   },
   "file_extension": ".py",
   "mimetype": "text/x-python",
   "name": "python",
   "nbconvert_exporter": "python",
   "pygments_lexer": "ipython3",
   "version": "3.5.2"
  }
 },
 "nbformat": 4,
 "nbformat_minor": 0
}
